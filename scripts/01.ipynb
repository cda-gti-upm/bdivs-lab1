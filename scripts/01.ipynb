{
 "cells": [
  {
   "cell_type": "code",
   "execution_count": null,
   "outputs": [],
   "source": [
    "%matplotlib inline"
   ],
   "metadata": {
    "collapsed": false,
    "pycharm": {
     "name": "#%%\n"
    }
   }
  },
  {
   "cell_type": "markdown",
   "source": [
    "\n",
    "# Compressive Sensing\n",
    "\n",
    "This example demonstrates following features\n",
    "- Adquisition step: Compressive measurements of a sparse signal \n",
    "- Recovering step: Recovering the original signal using the IHT (Iterative Hard Thresholding) algorithm.\n"
   ],
   "metadata": {
    "collapsed": false,
    "pycharm": {
     "name": "#%% md\n"
    }
   }
  },
  {
   "cell_type": "markdown",
   "source": [
    "Let's import necessary libraries \n",
    "*   [jax](https://github.com/google/jax): library for high-performance machine learning and numerical computations.\n",
    "*   [cr-sparse](https://github.com/carnotresearch/cr-sparse): library for sparse signal represesentation with JAX.\n",
    "* [cr-nimble](https://github.com/carnotresearch/cr-nimble): library for iterative algorithms for numerical linear algebra with JAX."
   ],
   "metadata": {
    "collapsed": false,
    "pycharm": {
     "name": "#%% md\n"
    }
   }
  },
  {
   "cell_type": "code",
   "execution_count": null,
   "outputs": [],
   "source": [
    "import jax.numpy as jnp  # Accelerated numpy library.\n",
    "from jax.numpy.linalg import norm\n",
    "\n",
    "import matplotlib as mpl\n",
    "import matplotlib.pyplot as plt\n",
    "\n",
    "import cr.nimble as cnb\n",
    "import cr.sparse as crs\n",
    "import cr.sparse.dict as crdict\n",
    "import cr.sparse.data as crdata\n",
    "import cr.sparse.cs.cs1bit as cs1bit\n",
    "\n",
    "import time"
   ],
   "metadata": {
    "collapsed": false,
    "pycharm": {
     "name": "#%%\n"
    }
   }
  },
  {
   "cell_type": "markdown",
   "source": [
    "# Setup\n",
    "\n"
   ],
   "metadata": {
    "collapsed": false,
    "pycharm": {
     "name": "#%% md\n"
    }
   }
  },
  {
   "cell_type": "code",
   "execution_count": null,
   "outputs": [],
   "source": [
    "# Number of measurements\n",
    "M = 60\n",
    "# Ambient dimension\n",
    "N = 500\n",
    "# Sparsity level\n",
    "K = 10"
   ],
   "metadata": {
    "collapsed": false,
    "pycharm": {
     "name": "#%%\n"
    }
   }
  },
  {
   "cell_type": "markdown",
   "source": [
    "# Sensing Matrix"
   ],
   "metadata": {
    "collapsed": false,
    "pycharm": {
     "name": "#%% md\n"
    }
   }
  },
  {
   "cell_type": "code",
   "execution_count": null,
   "outputs": [],
   "source": [
    "from jax import random\n",
    "import math\n",
    "from cr.nimble import normalize_l2_cw\n",
    "\n",
    "shape = (M, N)\n",
    "normalize_atoms = True\n",
    "key = cnb.KEYS[0]  # Key for pseudo-random number generation\n",
    "Phi = random.normal(key, shape)\n",
    "if normalize_atoms:\n",
    "    Phi = normalize_l2_cw(Phi)  # Normalize directly each column of per l_2-norm\n",
    "else:\n",
    "    sigma = math.sqrt(M)\n",
    "    Phi = Phi / sigma  # Normalize indirectly each column for Gaussian distributions\n",
    "\n",
    "# Frame bound (You can ignore this)\n",
    "s0 = crdict.upper_frame_bound(Phi)  # Computes the upper frame bound for a dictionary. Upper frame bound: https://en.wikipedia.org/wiki/Frame_(linear_algebra)\n",
    "print(s0)\n",
    "\n",
    "# Plot sensing matrix\n",
    "fig=plt.figure(figsize=(8,6), dpi= 100, facecolor='w', edgecolor='k')\n",
    "plt.imshow(Phi, extent=[0, 2, 0, 1])\n",
    "plt.gray()\n",
    "plt.colorbar()\n",
    "plt.title(r'$\\Phi$');"
   ],
   "metadata": {
    "collapsed": false,
    "pycharm": {
     "name": "#%%\n"
    }
   }
  },
  {
   "cell_type": "markdown",
   "source": [
    "# K-sparse signal generation\n",
    "_Function help_\n",
    "- [sparse_normal_representations()](https://cr-sparse.readthedocs.io/en/latest/source/_autosummary/cr.sparse.data.sparse_normal_representations.html?highlight=sparse_normal_representations): Generates a set of sparse model vectors with normally distributed non-zero entries.\n",
    "\n"
   ],
   "metadata": {
    "collapsed": false,
    "pycharm": {
     "name": "#%% md\n"
    }
   }
  },
  {
   "cell_type": "code",
   "execution_count": null,
   "outputs": [],
   "source": [
    "# Generation of a random sparse vector.\n",
    "x, omega = crdata.sparse_normal_representations(cnb.KEYS[1], N, K)\n",
    "# normalize signal\n",
    "x = x / norm(x)\n",
    "# the support indices\n",
    "print(omega)\n",
    "\n",
    "# Plot sparse signal\n",
    "fig=plt.figure(figsize=(8,6), dpi= 100, facecolor='w', edgecolor='k')\n",
    "plt.stem(x, markerfmt='.', use_line_collection=True);"
   ],
   "metadata": {
    "collapsed": false,
    "pycharm": {
     "name": "#%%\n"
    }
   }
  },
  {
   "cell_type": "markdown",
   "source": [
    "# Measurement process or acquisition step\n",
    "Compressive measurements"
   ],
   "metadata": {
    "collapsed": false,
    "pycharm": {
     "name": "#%% md\n"
    }
   }
  },
  {
   "cell_type": "code",
   "execution_count": null,
   "outputs": [],
   "source": [
    "start = time.time()\n",
    "y = Phi @ x  # Matrix multiplication\n",
    "end = time.time()\n",
    "print(f'Elapse time:{end - start}')\n",
    "\n",
    "# Plot compressive vector\n",
    "fig=plt.figure(figsize=(8,6), dpi= 100, facecolor='w', edgecolor='k')\n",
    "plt.stem(y, markerfmt='.');\n",
    "#print(y)"
   ],
   "metadata": {
    "collapsed": false,
    "pycharm": {
     "name": "#%%\n"
    }
   }
  },
  {
   "cell_type": "markdown",
   "source": [
    "# Signal Reconstruction/Recovering using IHT"
   ],
   "metadata": {
    "collapsed": false,
    "pycharm": {
     "name": "#%% md\n"
    }
   }
  },
  {
   "cell_type": "markdown",
   "source": [
    "### HTP (Hard Thresholding Pursuit implementation)\n",
    "- See [Greedy Sparse Recovery](https://carnotresearch.github.io/cr-sparse/source/pursuit.html)"
   ],
   "metadata": {
    "collapsed": false,
    "pycharm": {
     "name": "#%% md\n"
    }
   }
  },
  {
   "cell_type": "code",
   "execution_count": null,
   "outputs": [],
   "source": [
    "from cr.sparse.pursuit import htp\n",
    "sol = htp.matrix_solve_jit(Phi, y, K, normalized=True, step_size=None, max_iters=None, res_norm_rtol=0.0001)\n",
    "x_rec = crs.build_signal_from_indices_and_values(N, sol.I, sol.x_I)"
   ],
   "metadata": {
    "collapsed": false,
    "pycharm": {
     "name": "#%%\n"
    }
   }
  },
  {
   "cell_type": "code",
   "execution_count": 36,
   "metadata": {
    "colab": {
     "base_uri": "https://localhost:8080/",
     "height": 553
    },
    "id": "QtzbOvkMIexW",
    "outputId": "dd535607-f841-4b02-b8bb-6dea41fc4298",
    "pycharm": {
     "name": "#%%\n"
    }
   },
   "outputs": [
    {
     "name": "stdout",
     "output_type": "stream",
     "text": [
      "[164 199 238 265 298 317 349 396 459 493]\n"
     ]
    },
    {
     "data": {
      "image/png": "[encoded data removed]",
      "text/plain": [
       "<Figure size 800x600 with 2 Axes>"
      ]
     },
     "metadata": {},
     "output_type": "display_data"
    }
   ],
   "source": [
    "fig=plt.figure(figsize=(8,6), dpi= 100, facecolor='w', edgecolor='k')\n",
    "plt.subplot(211)\n",
    "plt.title('original')\n",
    "plt.stem(x, markerfmt='.', linefmt='gray');\n",
    "plt.subplot(212)\n",
    "plt.stem(x_rec, markerfmt='.');\n",
    "plt.title('reconstruction')\n",
    "\n",
    "# recovered support\n",
    "I = jnp.sort(sol.I)\n",
    "print(I)"
   ]
  },
  {
   "cell_type": "code",
   "execution_count": 37,
   "metadata": {
    "colab": {
     "base_uri": "https://localhost:8080/"
    },
    "id": "2HVSy262IexW",
    "outputId": "c17646d3-6926-46e7-8795-c0ca792d548e",
    "pycharm": {
     "name": "#%%\n"
    }
   },
   "outputs": [
    {
     "name": "stdout",
     "output_type": "stream",
     "text": [
      "Support correctly recovered?: True\n",
      "Error: 7.076482688717078e-07\n"
     ]
    }
   ],
   "source": [
    "print(f'Support correctly recovered?: {jnp.array_equal(omega, I)}')\n",
    "# normalize recovered signal\n",
    "x_rec = x_rec / norm(x_rec)\n",
    "# the norm of error\n",
    "print(f'Error: {norm(x - x_rec)}')"
   ]
  }
 ],
 "metadata": {
  "colab": {
   "provenance": []
  },
  "kernelspec": {
   "display_name": "Python 3 (ipykernel)",
   "language": "python",
   "name": "python3"
  },
  "language_info": {
   "codemirror_mode": {
    "name": "ipython",
    "version": 3
   },
   "file_extension": ".py",
   "mimetype": "text/x-python",
   "name": "python",
   "nbconvert_exporter": "python",
   "pygments_lexer": "ipython3",
   "version": "3.10.9"
  }
 },
 "nbformat": 4,
 "nbformat_minor": 1
}